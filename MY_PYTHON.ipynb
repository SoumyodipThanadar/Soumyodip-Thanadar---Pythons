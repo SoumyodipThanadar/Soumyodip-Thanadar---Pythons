{
  "nbformat": 4,
  "nbformat_minor": 0,
  "metadata": {
    "colab": {
      "provenance": [],
      "authorship_tag": "ABX9TyOnwJKj+kAO0NllsQGlDYzH",
      "include_colab_link": true
    },
    "kernelspec": {
      "name": "python3",
      "display_name": "Python 3"
    },
    "language_info": {
      "name": "python"
    }
  },
  "cells": [
    {
      "cell_type": "markdown",
      "metadata": {
        "id": "view-in-github",
        "colab_type": "text"
      },
      "source": [
        "<a href=\"https://colab.research.google.com/github/SoumyodipThanadar/Soumyodip-Thanadar---Pythons/blob/main/MY_PYTHON.ipynb\" target=\"_parent\"><img src=\"https://colab.research.google.com/assets/colab-badge.svg\" alt=\"Open In Colab\"/></a>"
      ]
    },
    {
      "cell_type": "markdown",
      "source": [
        "**PYTHON WITH DATASCIENCE **"
      ],
      "metadata": {
        "id": "sGfkdo-avFtf"
      }
    },
    {
      "cell_type": "code",
      "execution_count": null,
      "metadata": {
        "id": "PlvD18zDg1kp",
        "colab": {
          "base_uri": "https://localhost:8080/"
        },
        "outputId": "de586d42-4f8b-4461-9da3-d3451cd38a6d"
      },
      "outputs": [
        {
          "output_type": "stream",
          "name": "stdout",
          "text": [
            "5 <class 'int'>\n"
          ]
        }
      ],
      "source": [
        "x = 5\n",
        "print(x, type(5))"
      ]
    },
    {
      "cell_type": "code",
      "source": [
        "y=3.14\n",
        "print(y)"
      ],
      "metadata": {
        "colab": {
          "base_uri": "https://localhost:8080/"
        },
        "id": "ZHAqesPnvmDf",
        "outputId": "7757ca8f-5de7-41cb-b5d8-f67f255cb2f6"
      },
      "execution_count": null,
      "outputs": [
        {
          "output_type": "stream",
          "name": "stdout",
          "text": [
            "3.14\n"
          ]
        }
      ]
    },
    {
      "cell_type": "code",
      "source": [
        "name = \"Soumyodip Thanadar\"\n",
        "print(name, type(name))"
      ],
      "metadata": {
        "colab": {
          "base_uri": "https://localhost:8080/"
        },
        "id": "NtTJF_Ogv1rw",
        "outputId": "3c67d272-b159-4905-b4f8-5776e1bc7a3b"
      },
      "execution_count": null,
      "outputs": [
        {
          "output_type": "stream",
          "name": "stdout",
          "text": [
            "Soumyodip Thanadar <class 'str'>\n"
          ]
        }
      ]
    },
    {
      "cell_type": "code",
      "source": [
        "P_C_CHANDRA = True\n",
        "print(P_C_CHANDRA)"
      ],
      "metadata": {
        "colab": {
          "base_uri": "https://localhost:8080/"
        },
        "id": "y-HKrWWpwDZX",
        "outputId": "56837da8-65c1-4c38-d873-aaff902ed29d"
      },
      "execution_count": null,
      "outputs": [
        {
          "output_type": "stream",
          "name": "stdout",
          "text": [
            "True\n"
          ]
        }
      ]
    },
    {
      "cell_type": "code",
      "source": [
        "A = 10\n",
        "B = \"10.5\"\n",
        "C = float(B)\n",
        "print(A)\n",
        "print(B)\n",
        "print(C)\n",
        "print(A + C)\n",
        "print(A + float(B))"
      ],
      "metadata": {
        "colab": {
          "base_uri": "https://localhost:8080/"
        },
        "id": "QsEaHe5GwVu5",
        "outputId": "f05a2bcd-083b-440d-c7a0-2838c0d4085f"
      },
      "execution_count": null,
      "outputs": [
        {
          "output_type": "stream",
          "name": "stdout",
          "text": [
            "10\n",
            "10.5\n",
            "10.5\n",
            "20.5\n",
            "20.5\n"
          ]
        }
      ]
    },
    {
      "cell_type": "code",
      "source": [
        "a = False\n",
        "b = 5\n",
        "c = 4\n",
        "d = bool(c)\n",
        "print(d)"
      ],
      "metadata": {
        "colab": {
          "base_uri": "https://localhost:8080/"
        },
        "id": "JXaSF_4qxrCH",
        "outputId": "9b7718c7-fd89-454d-dd9c-3a686f0ef3ac"
      },
      "execution_count": null,
      "outputs": [
        {
          "output_type": "stream",
          "name": "stdout",
          "text": [
            "True\n"
          ]
        }
      ]
    },
    {
      "cell_type": "code",
      "source": [
        "a = 10\n",
        "b = 0\n",
        "\n",
        "try:\n",
        "  print(a/b)\n",
        "except ZeroDivisionError:\n",
        "  print(\"Zero Division Error\")"
      ],
      "metadata": {
        "colab": {
          "base_uri": "https://localhost:8080/"
        },
        "id": "5fFLmxG0yB-X",
        "outputId": "81857a4a-9be4-43b2-8ee0-373b4a4294c2"
      },
      "execution_count": null,
      "outputs": [
        {
          "output_type": "stream",
          "name": "stdout",
          "text": [
            "Zero Division Error\n"
          ]
        }
      ]
    },
    {
      "cell_type": "code",
      "source": [
        "greeting = \"Hello, World\"\n",
        "print(greeting)\n",
        "substring = greeting[7:12]\n",
        "print(substring)\n",
        "length = len(greeting)\n",
        "print(length)\n",
        "\n",
        "\n",
        "greeting1 = \" Hello SoUmYo\"\n",
        "upper_case = greeting1.upper()\n",
        "lower_case = greeting1.lower()\n",
        "title_case = greeting1.title()\n",
        "print(upper_case)\n",
        "print(lower_case)\n",
        "print(title_case)\n"
      ],
      "metadata": {
        "colab": {
          "base_uri": "https://localhost:8080/"
        },
        "id": "s52Z7vCGyodY",
        "outputId": "231765e5-76d3-45de-98fc-b72b395f1469"
      },
      "execution_count": null,
      "outputs": [
        {
          "output_type": "stream",
          "name": "stdout",
          "text": [
            "Hello, World\n",
            "World\n",
            "12\n",
            " HELLO SOUMYO\n",
            " hello soumyo\n",
            " Hello Soumyo\n"
          ]
        }
      ]
    },
    {
      "cell_type": "code",
      "source": [
        "age = 5\n",
        "if age > 18:\n",
        "  print(\"You are eligible to vote\")\n",
        "elif age == 18:\n",
        "  print(\"You are just eligible to vote\")\n",
        "else:\n",
        "    print(\"You are not eligible to vote\")\n",
        "\n",
        "print(\"Hi there!\")"
      ],
      "metadata": {
        "colab": {
          "base_uri": "https://localhost:8080/"
        },
        "id": "2CBIT3YD0SOg",
        "outputId": "2d0d40a1-49e9-4a2f-c5bc-841c24c2fc8c"
      },
      "execution_count": null,
      "outputs": [
        {
          "output_type": "stream",
          "name": "stdout",
          "text": [
            "You are not eligible to vote\n",
            "Hi there!\n"
          ]
        }
      ]
    }
  ]
}